{
 "cells": [
  {
   "cell_type": "markdown",
   "id": "bbd4f3b8",
   "metadata": {},
   "source": [
    "Problem 1.Given an array of n numbers, give an algorithm which gives the element appearing maximum\n",
    "number of times?"
   ]
  },
  {
   "cell_type": "code",
   "execution_count": 1,
   "id": "5afa9107",
   "metadata": {},
   "outputs": [
    {
     "name": "stdout",
     "output_type": "stream",
     "text": [
      "2\n"
     ]
    }
   ],
   "source": [
    "def find_max_occurence(arr):\n",
    "    frequency_dict={}\n",
    "    for element in arr:\n",
    "        if element in frequency_dict:\n",
    "            frequency_dict[element]+=1\n",
    "        else:\n",
    "            frequency_dict[element]=1\n",
    "    max_element=max(frequency_dict,key=frequency_dict.get)\n",
    "    return max_element\n",
    "arr=[1,2,3,4,5,4,3,2,1,1,1,1,2,2,2,2,2,2,2,2,2,2,2,2,3,3,3,3,3,3,4,4,4,4,4,4,5,5,5,5,5,5,5,5,5,5]\n",
    "result=find_max_occurence(arr)\n",
    "print(result)"
   ]
  },
  {
   "cell_type": "code",
   "execution_count": null,
   "id": "a5becf16",
   "metadata": {},
   "outputs": [],
   "source": []
  },
  {
   "cell_type": "markdown",
   "id": "e3fb3cb5",
   "metadata": {},
   "source": [
    "Problem 2 : We are given a list of n-1 integers and these integers are in the range of 1 to n . There are no\n",
    "duplicates in the list. One of the integers is missing in the list. Give an algorithm to find that element Ex:\n",
    "[1,2,4,6,3,7,8] 5 is the missing num."
   ]
  },
  {
   "cell_type": "code",
   "execution_count": 2,
   "id": "5c0e1151",
   "metadata": {},
   "outputs": [
    {
     "name": "stdout",
     "output_type": "stream",
     "text": [
      "4\n"
     ]
    }
   ],
   "source": [
    "def find_missing_num(nums):\n",
    "    n=len(nums)+1\n",
    "    expected_sum=(n*(n+1))//2\n",
    "    actual_sum=sum(nums)\n",
    "\n",
    "    missing_number=expected_sum-actual_sum\n",
    "    return missing_number\n",
    "nums=[1,2,3,5,6,7,8,9]\n",
    "result=find_missing_num(nums)\n",
    "print(result)"
   ]
  },
  {
   "cell_type": "code",
   "execution_count": null,
   "id": "085b030a",
   "metadata": {},
   "outputs": [],
   "source": []
  },
  {
   "cell_type": "markdown",
   "id": "883d23f8",
   "metadata": {},
   "source": [
    "Problem 3 : Given an array of n positive numbers. All numbers occurs even number of times except 1 which\n",
    "occurs odd number of times. Find that number in O(n) time and O(1) space. Ex: [1,2,3,2,3,1,3]. 3 is repeats odd\n",
    "times."
   ]
  },
  {
   "cell_type": "code",
   "execution_count": 3,
   "id": "5e356697",
   "metadata": {},
   "outputs": [
    {
     "name": "stdout",
     "output_type": "stream",
     "text": [
      "3\n"
     ]
    }
   ],
   "source": [
    "def find_odd_occurence(arr):\n",
    "    result=0\n",
    "    for num in arr:\n",
    "        result=result^num\n",
    "    return result\n",
    "arr=[1,2,3,4,1,2,3,4,3]\n",
    "odd_occurence_num=find_odd_occurence(arr)\n",
    "print(odd_occurence_num)"
   ]
  },
  {
   "cell_type": "code",
   "execution_count": null,
   "id": "00ca11d5",
   "metadata": {},
   "outputs": [],
   "source": []
  },
  {
   "cell_type": "markdown",
   "id": "8a24d5f4",
   "metadata": {},
   "source": [
    "Problem 4 : Given an array of n elements. Find two elements in the array such that their sum is equal to given\n",
    "element K."
   ]
  },
  {
   "cell_type": "code",
   "execution_count": 4,
   "id": "9df75c5e",
   "metadata": {},
   "outputs": [
    {
     "name": "stdout",
     "output_type": "stream",
     "text": [
      "The two elements with sum 15 is (8, 7)\n"
     ]
    }
   ],
   "source": [
    "def find_two_element_with_sum(arr,K):\n",
    "    seen_element=set()\n",
    "    for num in arr:\n",
    "        complement=K-num\n",
    "        if complement in seen_element:\n",
    "            return num,complement\n",
    "        seen_element.add(num)\n",
    "    return None\n",
    "\n",
    "\n",
    "arr = [1, 2, 3, 4, 5, 6, 7, 8, 9]\n",
    "K = 15\n",
    "result = find_two_element_with_sum(arr, K)\n",
    "\n",
    "if result:\n",
    "    print(f\"The two elements with sum {K} is\", result)\n",
    "else:\n",
    "    print(\"No such elements found\")\n"
   ]
  },
  {
   "cell_type": "code",
   "execution_count": null,
   "id": "5c0cbdd9",
   "metadata": {},
   "outputs": [],
   "source": []
  },
  {
   "cell_type": "markdown",
   "id": "6ab3485e",
   "metadata": {},
   "source": [
    "Problem 5 : Given an array of both positive and negative numbers, find two numbers such that their sum is\n",
    "closest to 0. Ex: [ 1 ,60 ,-10, 70, -80,85]. Ans : -80,85."
   ]
  },
  {
   "cell_type": "code",
   "execution_count": 5,
   "id": "93385ca8",
   "metadata": {},
   "outputs": [
    {
     "name": "stdout",
     "output_type": "stream",
     "text": [
      "The pair with the sum closest to 0 is: (-80, 85)\n"
     ]
    }
   ],
   "source": [
    "def closest_to_zero_pair(arr):\n",
    "    n=len(arr)\n",
    "\n",
    "    if n<2:\n",
    "        return None\n",
    "    arr.sort()\n",
    "\n",
    "    closest_sum= float ('inf')\n",
    "    pair=None\n",
    "\n",
    "    left,right=0,n-1\n",
    "\n",
    "    while left < right:\n",
    "        current_sum=arr[left]+arr[right]\n",
    "\n",
    "        if abs(current_sum) < closest_sum:\n",
    "            closest_sum = abs(current_sum)\n",
    "            pair=(arr[left],arr[right])\n",
    "\n",
    "        if current_sum<0:\n",
    "            left+=1\n",
    "        elif current_sum>0:\n",
    "            right -=1\n",
    "        else:\n",
    "            return pair\n",
    "    return pair\n",
    "arr = [1, 60, -10, 70, -80, 85]\n",
    "result = closest_to_zero_pair(arr)\n",
    "\n",
    "if result:\n",
    "    print(\"The pair with the sum closest to 0 is:\", result)\n",
    "else:\n",
    "    print(\"No such pair found.\")\n"
   ]
  },
  {
   "cell_type": "code",
   "execution_count": null,
   "id": "7281deea",
   "metadata": {},
   "outputs": [],
   "source": []
  },
  {
   "cell_type": "markdown",
   "id": "4c045a3a",
   "metadata": {},
   "source": [
    "Problem 6 : Given an array of n elements . Find three elements such that their sum is equal to the given\n",
    "number."
   ]
  },
  {
   "cell_type": "code",
   "execution_count": 2,
   "id": "8cda7e43",
   "metadata": {},
   "outputs": [
    {
     "name": "stdout",
     "output_type": "stream",
     "text": [
      "Triplet with sum 20: (4, 6, 10)\n"
     ]
    }
   ],
   "source": [
    "def find_triplet_with_sum(nums, target_sum):\n",
    "    nums.sort() \n",
    "\n",
    "    for i in range(len(nums) - 2):\n",
    "        left, right = i + 1, len(nums) - 1\n",
    "\n",
    "        while left < right:\n",
    "            current_sum = nums[i] + nums[left] + nums[right]\n",
    "\n",
    "            if current_sum == target_sum:\n",
    "                return nums[i], nums[left], nums[right]\n",
    "            elif current_sum < target_sum:\n",
    "                left += 1\n",
    "            else:\n",
    "                right -= 1\n",
    "\n",
    "    return None  \n",
    "\n",
    "nums = [1, 4, 45, 6, 10, 8]\n",
    "target_sum = 20\n",
    "result = find_triplet_with_sum(nums, target_sum)\n",
    "\n",
    "if result:\n",
    "    print(f\"Triplet with sum {target_sum}: {result}\")\n",
    "else:\n",
    "    print(\"No triplet found with the given sum.\")\n"
   ]
  },
  {
   "cell_type": "code",
   "execution_count": null,
   "id": "97f0fe5a",
   "metadata": {},
   "outputs": [],
   "source": []
  },
  {
   "cell_type": "markdown",
   "id": "5b771a73",
   "metadata": {},
   "source": [
    "Problem 7 : Given an array of n elements . Find three elements i, j, k in the array such that\n",
    "i * i + j * j = k*k."
   ]
  },
  {
   "cell_type": "code",
   "execution_count": 3,
   "id": "6d056961",
   "metadata": {},
   "outputs": [
    {
     "name": "stdout",
     "output_type": "stream",
     "text": [
      "Pythagorean triplet (6, 8, 10)\n"
     ]
    }
   ],
   "source": [
    "def find_pythagorean_triplet(nums):\n",
    "    n=len(nums)\n",
    "    for i in range(n):\n",
    "        for j in range(i+1,n):\n",
    "            for k in range(j+1,n):\n",
    "                if nums[i]*nums[i]+nums[j]*nums[j]==nums[k]*nums[k]:\n",
    "                    return nums[i],nums[j],nums[k]\n",
    "    return None\n",
    "\n",
    "nums=[1,4,5,6,7,8,9,10]\n",
    "result=find_pythagorean_triplet(nums)\n",
    "\n",
    "if result:\n",
    "    print(f\"Pythagorean triplet {result}\")\n",
    "else:\n",
    "    print(\"No pythagorean triplet found\")"
   ]
  },
  {
   "cell_type": "code",
   "execution_count": null,
   "id": "5efab4ff",
   "metadata": {},
   "outputs": [],
   "source": []
  },
  {
   "cell_type": "markdown",
   "id": "14dec69d",
   "metadata": {},
   "source": [
    "Problem 8 : An element is a majority if it appears more than n/2 times. Give an algorithm takes an array of n\n",
    "element as argument and identifies a majority (if it exists)."
   ]
  },
  {
   "cell_type": "code",
   "execution_count": 4,
   "id": "6eae134f",
   "metadata": {},
   "outputs": [
    {
     "name": "stdout",
     "output_type": "stream",
     "text": [
      "The majority number is 2\n"
     ]
    }
   ],
   "source": [
    "def find_majority(nums):\n",
    "    candidate = None\n",
    "    count = 0\n",
    "\n",
    "    for num in nums:\n",
    "        if count == 0:\n",
    "            candidate = num\n",
    "        count += 1 if num == candidate else -1\n",
    "\n",
    "    count = nums.count(candidate)\n",
    "\n",
    "    if count > len(nums) // 2:\n",
    "        return candidate\n",
    "    else:\n",
    "        return None\n",
    "\n",
    "nums = [1,2,2,2,2,2,2,2,2,2,2,2,2,3,4,5,6,7,8]\n",
    "result = find_majority(nums)\n",
    "\n",
    "if result is not None:\n",
    "    print(f\"The majority number is {result}\")\n",
    "else:\n",
    "    print(\"There is no majority number\")"
   ]
  },
  {
   "cell_type": "code",
   "execution_count": null,
   "id": "6bae3332",
   "metadata": {},
   "outputs": [],
   "source": []
  },
  {
   "cell_type": "markdown",
   "id": "d7a569ae",
   "metadata": {},
   "source": [
    "Problem 9 : Given n × n matrix, and in each row all 1’s are followed by 0’s. Find the row with the maximum\n",
    "number of 0’s."
   ]
  },
  {
   "cell_type": "code",
   "execution_count": 5,
   "id": "76bd2094",
   "metadata": {},
   "outputs": [
    {
     "name": "stdout",
     "output_type": "stream",
     "text": [
      "The row with the maximum number of 0's is 3\n"
     ]
    }
   ],
   "source": [
    "def find_max_zeros_row(matrix):\n",
    "    max_zeros_row = -1\n",
    "    max_zeros_count = -1\n",
    "\n",
    "    for i, row in enumerate(matrix):\n",
    "        zeros_count = row.count(0)\n",
    "\n",
    "        if zeros_count > max_zeros_count:\n",
    "            max_zeros_count = zeros_count\n",
    "            max_zeros_row = i\n",
    "\n",
    "    return max_zeros_row\n",
    "\n",
    "# Example usage:\n",
    "matrix = [\n",
    "    [1, 1, 1, 0, 0],\n",
    "    [1, 1, 0, 0, 0],\n",
    "    [1, 1, 1, 1, 0],\n",
    "    [1, 0, 0, 0, 0],\n",
    "    [1, 1, 1, 1, 1]\n",
    "]\n",
    "\n",
    "result = find_max_zeros_row(matrix)\n",
    "\n",
    "if result != -1:\n",
    "    print(f\"The row with the maximum number of 0's is {result}\")\n",
    "else:\n",
    "    print(\"The matrix is empty or there are no rows with 0's.\")\n"
   ]
  },
  {
   "cell_type": "code",
   "execution_count": null,
   "id": "514a5667",
   "metadata": {},
   "outputs": [],
   "source": []
  },
  {
   "cell_type": "markdown",
   "id": "aeaf3361",
   "metadata": {},
   "source": [
    "Problem 10 : Sort an array of 0’s, 1’s and 2’s [or R’s, G’s and B’s]: Given an array A[] consisting of 0’s, 1’s and\n",
    "2’s, give an algorithm for sorting A[].The algorithm should put all 0’s first, then all 1’s and finally all 2’s at the\n",
    "end. Example Input = {0,1,1,0,1,2,1,2,0,0,0,1}, Output = {0,0,0,0,0,1,1,1,1,1,2,2}"
   ]
  },
  {
   "cell_type": "code",
   "execution_count": 6,
   "id": "19850b94",
   "metadata": {},
   "outputs": [
    {
     "name": "stdout",
     "output_type": "stream",
     "text": [
      "Sorted array: [0, 0, 0, 0, 0, 1, 1, 1, 1, 1, 2, 2]\n"
     ]
    }
   ],
   "source": [
    "def sortColors(nums):\n",
    "    low, mid, high = 0, 0, len(nums) - 1\n",
    "\n",
    "    while mid <= high:\n",
    "        if nums[mid] == 0:\n",
    "            nums[low], nums[mid] = nums[mid], nums[low]\n",
    "            low += 1\n",
    "            mid += 1\n",
    "        elif nums[mid] == 1:\n",
    "            mid += 1\n",
    "        else:\n",
    "            nums[mid], nums[high] = nums[high], nums[mid]\n",
    "            high -= 1\n",
    "\n",
    "nums = [0, 1, 1, 0, 1, 2, 1, 2, 0, 0, 0, 1]\n",
    "sortColors(nums)\n",
    "print(\"Sorted array:\", nums)\n"
   ]
  },
  {
   "cell_type": "code",
   "execution_count": null,
   "id": "e2b8cd16",
   "metadata": {},
   "outputs": [],
   "source": []
  }
 ],
 "metadata": {
  "kernelspec": {
   "display_name": "Python 3 (ipykernel)",
   "language": "python",
   "name": "python3"
  },
  "language_info": {
   "codemirror_mode": {
    "name": "ipython",
    "version": 3
   },
   "file_extension": ".py",
   "mimetype": "text/x-python",
   "name": "python",
   "nbconvert_exporter": "python",
   "pygments_lexer": "ipython3",
   "version": "3.10.9"
  }
 },
 "nbformat": 4,
 "nbformat_minor": 5
}
